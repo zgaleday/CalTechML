{
 "cells": [
  {
   "cell_type": "markdown",
   "metadata": {
    "collapsed": true
   },
   "source": [
    "##Homework 2\n",
    "\n",
    "## Hoeffding Inequality:\n",
    "Run a computer simulation for flipping 1,000 virtual fair coins. Flip each coin independently\n",
    "10 times. Focus on 3 coins as follows: $c_1$ is the first coin flipped, crand is a\n",
    "coin chosen randomly from the 1,000, and cmin is the coin which had the minimum\n",
    "frequency of heads (pick the earlier one in case of a tie). Let $ν_1$, $ν_{rand}$, and $ν_{min}$ be\n",
    "the fraction of heads obtained for the 3 respective coins out of the 10 tosses.\n",
    "Run the experiment 100,000 times in order to get a full distribution of $ν_1$, $ν_{rand}$, and $ν_{min}$ (note that crand and cmin will change from run to run).\n",
    "\n"
   ]
  },
  {
   "cell_type": "markdown",
   "metadata": {},
   "source": [
    ""
   ]
  },
  {
   "cell_type": "markdown",
   "metadata": {},
   "source": [
    ""
   ]
  }
 ],
 "metadata": {
  "kernelspec": {
   "display_name": "Python 2",
   "language": "python",
   "name": "python2"
  },
  "language_info": {
   "codemirror_mode": {
    "name": "ipython",
    "version": 2.0
   },
   "file_extension": ".py",
   "mimetype": "text/x-python",
   "name": "python",
   "nbconvert_exporter": "python",
   "pygments_lexer": "ipython2",
   "version": "2.7.6"
  }
 },
 "nbformat": 4,
 "nbformat_minor": 0
}