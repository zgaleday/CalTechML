{
 "cells": [
  {
   "cell_type": "markdown",
   "metadata": {
    "collapsed": true
   },
   "source": [
    "# Homework 2\n",
    "\n",
    "## Hoeffding Inequality:\n",
    "Run a computer simulation for flipping 1,000 virtual fair coins. Flip each coin independently\n",
    "10 times. Focus on 3 coins as follows: $c_1$ is the first coin flipped, $c_{rand}$ is a\n",
    "coin chosen randomly from the 1,000, and $c_{min}$ is the coin which had the minimum\n",
    "frequency of heads (pick the earlier one in case of a tie). Let $ν_1$, $ν_{rand}$, and $ν_{min}$ be\n",
    "the fraction of heads obtained for the 3 respective coins out of the 10 tosses.\n",
    "Run the experiment 100,000 times in order to get a full distribution of $ν_1$, $ν_{rand}$, and $ν_{min}$ (note that crand and cmin will change from run to run).\n",
    "\n",
    "### Question 1:\n",
    "\n",
    "The average value of $ν_{min}$ is closest to?"
   ]
  },
  {
   "cell_type": "code",
   "execution_count": null,
   "metadata": {},
   "outputs": [],
   "source": [
    "import numpy as np\n",
    "\n",
    "def coin_flipper(number):\n",
    "    sample = np.random.randint(0, 1, 1000)\n",
    "    print(sample)"
   ]
  },
  {
   "cell_type": "markdown",
   "metadata": {},
   "source": [
    ""
   ]
  }
 ],
 "metadata": {
  "kernelspec": {
   "display_name": "Python 2",
   "language": "python",
   "name": "python2"
  },
  "language_info": {
   "codemirror_mode": {
    "name": "ipython",
    "version": 2.0
   },
   "file_extension": ".py",
   "mimetype": "text/x-python",
   "name": "python",
   "nbconvert_exporter": "python",
   "pygments_lexer": "ipython2",
   "version": "2.7.6"
  }
 },
 "nbformat": 4,
 "nbformat_minor": 0
}